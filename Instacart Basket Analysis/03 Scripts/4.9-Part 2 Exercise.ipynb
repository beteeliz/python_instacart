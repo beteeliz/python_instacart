{
 "cells": [
  {
   "cell_type": "markdown",
   "id": "597d940c-3d6b-4f83-a63e-04b5f3c44596",
   "metadata": {},
   "source": [
    "# Part 2"
   ]
  },
  {
   "cell_type": "code",
   "execution_count": null,
   "id": "9fffd860-21a5-41aa-b9f2-5ca712859a76",
   "metadata": {},
   "outputs": [],
   "source": [
    "# Importing libraries\n",
    "import pandas as pd\n",
    "import numpy as np\n",
    "import os\n",
    "import matplotlib.pyplot as plt\n",
    "import seaborn as sns\n",
    "import scipy"
   ]
  },
  {
   "cell_type": "code",
   "execution_count": null,
   "id": "340ab5a7-3931-4fb1-9f9d-a49329293aad",
   "metadata": {},
   "outputs": [],
   "source": [
    "# Turning your project folder path into a string as prepared data.\n",
    "path1 = r'/Users/elizabetenakamura/Documents/projects/python/data/prepared'"
   ]
  },
  {
   "cell_type": "code",
   "execution_count": null,
   "id": "21c0d3d8-0c3f-4c08-bffd-d3468e7630d5",
   "metadata": {},
   "outputs": [],
   "source": [
    "# Turning your project folder path into a string as visualizationdata.\n",
    "path2 = r'/Users/elizabetenakamura/Documents/projects/python/data/visualization'"
   ]
  },
  {
   "cell_type": "code",
   "execution_count": null,
   "id": "498b86a4-1878-4290-9c24-f038886507af",
   "metadata": {},
   "outputs": [],
   "source": [
    "# Import the most up-to-date data\n",
    "ords_prods_customers_merged =pd.read_pickle(os.path.join(path1, 'ords_prods_customers_merged.pkl'))"
   ]
  },
  {
   "cell_type": "code",
   "execution_count": null,
   "id": "07e91a73-5572-48a3-95ff-d301a00e8552",
   "metadata": {},
   "outputs": [],
   "source": [
    "# Creating a bar chart.\n",
    "bars = ords_prods_customers_merged['orders_day_of_week'].value_counts().plot.bar()"
   ]
  },
  {
   "cell_type": "code",
   "execution_count": null,
   "id": "2b1cd972-e489-4e0c-8ab0-dfeca920a443",
   "metadata": {},
   "outputs": [],
   "source": [
    "# Creating a histogram of order_of_day.\n",
    "histograms = ords_prods_customers_merged['order_hour_of_day'].plot.hist(bins = 24)"
   ]
  },
  {
   "cell_type": "code",
   "execution_count": null,
   "id": "9d6ca0eb-74af-4186-ad68-56d51d4f649f",
   "metadata": {},
   "outputs": [],
   "source": [
    "# Creating a line chart.\n",
    "line = sns.lineplot(data = ords_prods_customers_merged, x = 'order_hour_of_day',y = 'prices')"
   ]
  },
  {
   "cell_type": "code",
   "execution_count": null,
   "id": "202b66c2-e7a5-4c98-807a-7d110d396284",
   "metadata": {},
   "outputs": [],
   "source": [
    "# 4. Creating a bar chart of loyalty_flag.\n",
    "bars2 = ords_prods_customers_merged['loyalty_flag'].value_counts().plot.bar()"
   ]
  },
  {
   "cell_type": "code",
   "execution_count": null,
   "id": "c91503ac-2c9d-4f7f-b6ca-611d96d7558a",
   "metadata": {},
   "outputs": [],
   "source": [
    "# 5. Creating a sample of the dataframe\n",
    "sampled_df = ords_prods_customers_merged.sample(n=100000, random_state=1)"
   ]
  },
  {
   "cell_type": "code",
   "execution_count": null,
   "id": "7cfd2689-ace4-4edb-b0cd-1a6bbcd783ab",
   "metadata": {},
   "outputs": [],
   "source": [
    "# Grouping by hour of the day and calculate the mean expenditure\n",
    "hourly_expenditure = sampled_df.groupby('order_hour_of_day')['prices'].mean().reset_index()"
   ]
  },
  {
   "cell_type": "code",
   "execution_count": null,
   "id": "ef46b884-4ab4-40d9-bb5a-475cffce4bf9",
   "metadata": {},
   "outputs": [],
   "source": [
    "# Creating a line chart.\n",
    "line_price_hod = sns.lineplot(data = sampled_df, x = 'order_hour_of_day', y = 'prices')"
   ]
  },
  {
   "cell_type": "code",
   "execution_count": null,
   "id": "4fd348fa-214e-4b4b-a374-1d53011ed6f7",
   "metadata": {},
   "outputs": [],
   "source": [
    "# 6. Connections between age and number of dependants.\n",
    "sampled_df.columns"
   ]
  },
  {
   "cell_type": "code",
   "execution_count": null,
   "id": "79616dbd-82fb-4564-8567-8d194cbce0fe",
   "metadata": {},
   "outputs": [],
   "source": [
    "# Creating a line chart.\n",
    "line_age_num_dep = sns.lineplot(data = sampled_df, x = 'Age', y = 'Number of Dependents')"
   ]
  },
  {
   "cell_type": "code",
   "execution_count": null,
   "id": "9b87d02f-4784-4226-bf58-eb5a9660c1fd",
   "metadata": {},
   "outputs": [],
   "source": [
    "# 7. Creating a scatterplot chart.\n",
    "sns.scatterplot(x = 'age', y = 'income',data = ords_prods_customers_merged)"
   ]
  },
  {
   "cell_type": "code",
   "execution_count": null,
   "id": "ec59b28f-c0ed-45db-9692-cee055210708",
   "metadata": {},
   "outputs": [],
   "source": [
    "# 8. Exporting and saving imagess\n",
    "histograms.figure.savefig(os.path.join(path2,'histogram_order_hour_of_day.png'))"
   ]
  },
  {
   "cell_type": "code",
   "execution_count": null,
   "id": "bfb53d51-1650-477b-8dd2-4787531dde66",
   "metadata": {},
   "outputs": [],
   "source": [
    "# Exporting and saving images.\n",
    "bars2.figure.savefig(os.path.join(path2, 'bar_loyalty_flag.png'))"
   ]
  },
  {
   "cell_type": "code",
   "execution_count": null,
   "id": "5096e3a1-4733-4691-9f07-2b5174babfea",
   "metadata": {},
   "outputs": [],
   "source": [
    "# Exporting and saving images.\n",
    "line_price_hod.figure.savefig(os.path.join(path2, 'line_price_hour_of_day.png'))"
   ]
  },
  {
   "cell_type": "code",
   "execution_count": null,
   "id": "0e19779d-876d-4d55-b6f9-a014bdc6fae5",
   "metadata": {},
   "outputs": [],
   "source": [
    "#exporting and saving image\n",
    "line_age_num_dep.figure.savefig(os.path.join(path2,'line_age_number_of_dependents.png'))"
   ]
  }
 ],
 "metadata": {
  "kernelspec": {
   "display_name": "Python 3 (ipykernel)",
   "language": "python",
   "name": "python3"
  },
  "language_info": {
   "codemirror_mode": {
    "name": "ipython",
    "version": 3
   },
   "file_extension": ".py",
   "mimetype": "text/x-python",
   "name": "python",
   "nbconvert_exporter": "python",
   "pygments_lexer": "ipython3",
   "version": "3.12.7"
  }
 },
 "nbformat": 4,
 "nbformat_minor": 5
}
