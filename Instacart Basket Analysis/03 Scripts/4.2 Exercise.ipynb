{
 "cells": [
  {
   "cell_type": "markdown",
   "id": "ade683dc-e4d7-491a-9925-2c186e27cf20",
   "metadata": {},
   "source": [
    "# 01. Importing libraries"
   ]
  },
  {
   "cell_type": "code",
   "execution_count": 2,
   "id": "69ce2d46-9ec2-469c-b0a2-e3ba0eda13ff",
   "metadata": {},
   "outputs": [],
   "source": [
    "# Importing libraries\n",
    "import pandas as pd\n",
    "import numpy as np\n",
    "import os"
   ]
  },
  {
   "cell_type": "markdown",
   "id": "3cccf7f1-09d4-4c87-af09-7256f6791daf",
   "metadata": {},
   "source": [
    "# 02. Data Types"
   ]
  },
  {
   "cell_type": "code",
   "execution_count": 2,
   "id": "bfdd47f2-b8c1-41d9-81f1-cf9df9946ff9",
   "metadata": {},
   "outputs": [
    {
     "data": {
      "text/plain": [
       "100"
      ]
     },
     "execution_count": 2,
     "metadata": {},
     "output_type": "execute_result"
    }
   ],
   "source": [
    "# Code 3 different ways of reaching a result of 100 by adding or subtracting numeric variables.\n",
    "# Adding\n",
    "x = 50\n",
    "y = 50\n",
    "x + y\n",
    "\n",
    "# Subtracting\n",
    "x = 200\n",
    "y = 100\n",
    "x - y\n",
    "\n",
    "# Adding and Subtracting\n",
    "x = 200\n",
    "y = 50\n",
    "z = 50\n",
    "x - y - z"
   ]
  },
  {
   "cell_type": "code",
   "execution_count": 3,
   "id": "1f8503ff-d35f-4a15-9111-4024e2c45806",
   "metadata": {},
   "outputs": [
    {
     "data": {
      "text/plain": [
       "3.1551724137931036"
      ]
     },
     "execution_count": 3,
     "metadata": {},
     "output_type": "execute_result"
    }
   ],
   "source": [
    "# Code 2 floating-point variables and divide them by each other.\n",
    "a = 18.3\n",
    "b = 5.8\n",
    "a / b"
   ]
  },
  {
   "cell_type": "code",
   "execution_count": 4,
   "id": "4d19d6e2-b414-4f09-be01-9d913e492511",
   "metadata": {},
   "outputs": [
    {
     "name": "stdout",
     "output_type": "stream",
     "text": [
      "Hello World!\n"
     ]
    }
   ],
   "source": [
    "# Construct a short word made of separate strings (you’ll need to concatenate some strings!).\n",
    "c = 'Hello '\n",
    "d = 'World!'\n",
    "print(c+d)"
   ]
  },
  {
   "cell_type": "code",
   "execution_count": 5,
   "id": "9cfe0ff0-3a50-463e-80e1-3dc34641ae79",
   "metadata": {},
   "outputs": [
    {
     "name": "stdout",
     "output_type": "stream",
     "text": [
      "Hello World! \n",
      "Welcome to Python!\n"
     ]
    }
   ],
   "source": [
    "# Construct 2 short sentences made of separate strings.\n",
    "e = 'Hello World! \\n'\n",
    "f = 'Welcome to Python!'\n",
    "print(e+f)"
   ]
  },
  {
   "cell_type": "code",
   "execution_count": 6,
   "id": "eb55dfb0-4e38-45ad-8c50-fc89fbb6add2",
   "metadata": {},
   "outputs": [
    {
     "data": {
      "text/plain": [
       "'Hello World! Hello World! Hello World! Hello World! Hello World! Hello World! Hello World! Hello World! Hello World! Hello World! Hello World! Hello World! Hello World! Hello World! Hello World! Hello World! Hello World! Hello World! Hello World! Hello World! Hello World! Hello World! Hello World! Hello World! Hello World! Hello World! Hello World! Hello World! Hello World! Hello World! Hello World! Hello World! Hello World! Hello World! Hello World! Hello World! Hello World! Hello World! Hello World! Hello World! Hello World! Hello World! Hello World! Hello World! Hello World! Hello World! Hello World! Hello World! Hello World! Hello World! Hello World! Hello World! Hello World! Hello World! Hello World! Hello World! Hello World! Hello World! Hello World! Hello World! Hello World! Hello World! Hello World! Hello World! Hello World! Hello World! Hello World! Hello World! Hello World! Hello World! Hello World! Hello World! Hello World! Hello World! Hello World! Hello World! Hello World! Hello World! Hello World! Hello World! Hello World! Hello World! Hello World! Hello World! Hello World! Hello World! Hello World! Hello World! Hello World! Hello World! Hello World! Hello World! Hello World! Hello World! Hello World! Hello World! Hello World! Hello World! Hello World! Hello World! '"
      ]
     },
     "execution_count": 6,
     "metadata": {},
     "output_type": "execute_result"
    }
   ],
   "source": [
    "# Bonus Task\n",
    "# At the bottom of your file, include a command that makes a string appear 100 times.\n",
    "g = 'Hello World! '\n",
    "g * 100"
   ]
  },
  {
   "cell_type": "code",
   "execution_count": null,
   "id": "4c7ab9e2-5b15-4282-818e-f99127e888d6",
   "metadata": {},
   "outputs": [],
   "source": []
  }
 ],
 "metadata": {
  "kernelspec": {
   "display_name": "Python 3 (ipykernel)",
   "language": "python",
   "name": "python3"
  },
  "language_info": {
   "codemirror_mode": {
    "name": "ipython",
    "version": 3
   },
   "file_extension": ".py",
   "mimetype": "text/x-python",
   "name": "python",
   "nbconvert_exporter": "python",
   "pygments_lexer": "ipython3",
   "version": "3.12.7"
  }
 },
 "nbformat": 4,
 "nbformat_minor": 5
}
