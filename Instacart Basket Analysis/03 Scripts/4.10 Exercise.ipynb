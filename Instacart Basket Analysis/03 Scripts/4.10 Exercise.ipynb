{
 "cells": [
  {
   "cell_type": "markdown",
   "id": "667a85ba-27e2-4c65-9769-eb41c1e66a18",
   "metadata": {},
   "source": [
    "# Importing libraries"
   ]
  },
  {
   "cell_type": "code",
   "execution_count": 3,
   "id": "a61aae35-39cf-426f-a49c-3702cdf1ecf7",
   "metadata": {},
   "outputs": [],
   "source": [
    "# Import libraries\n",
    "import pandas as pd\n",
    "import numpy as np\n",
    "import os\n",
    "import matplotlib.pyplot as plt\n",
    "import seaborn as sns\n",
    "import scipy"
   ]
  },
  {
   "cell_type": "markdown",
   "id": "a5d6d143-f7f4-40d4-beac-b47140e45195",
   "metadata": {},
   "source": [
    "# Importing Data Frames"
   ]
  },
  {
   "cell_type": "code",
   "execution_count": 5,
   "id": "08d0b823-a94f-4ba8-aee4-42dcbaf89f7b",
   "metadata": {},
   "outputs": [],
   "source": [
    "# Turning your project folder path into a string as prepared data.\n",
    "path1 = r'/Users/elizabetenakamura/Documents/projects/python/data/prepared'"
   ]
  },
  {
   "cell_type": "code",
   "execution_count": 6,
   "id": "3a1e4465-2605-4105-b63a-5cb59a8e38a7",
   "metadata": {},
   "outputs": [],
   "source": [
    "# Turning your project folder path into a string as visualization data.\n",
    "path2 = r'Users/elizabetenakamura/Documents/projects/python/data/visualization'"
   ]
  },
  {
   "cell_type": "code",
   "execution_count": null,
   "id": "2086433d-6d9d-437c-8735-e255a3d52c35",
   "metadata": {},
   "outputs": [],
   "source": [
    "# Import and identify dataframes\n",
    "df_excluded = pd.read_pickle(os.path.join(path1,'low_activity_excluded.pkl'))"
   ]
  },
  {
   "cell_type": "code",
   "execution_count": 7,
   "id": "044919e0-c414-4ba0-b236-7e3ad97aa2e8",
   "metadata": {},
   "outputs": [],
   "source": [
    "# Import and identify dataframes\n",
    "ords_prods_customers_merged = pd.read_pickle(os.path.join(path1,'ords_prods_customers_merged.pkl'))"
   ]
  },
  {
   "cell_type": "code",
   "execution_count": null,
   "id": "d20011e3-1e03-413f-8645-f362dc833ce2",
   "metadata": {},
   "outputs": [],
   "source": [
    "# Import and identify dataframes\n",
    "df = pd.read_pickle(os.path.join(path1, 'orders_products_customers_departments.pkl'))"
   ]
  },
  {
   "cell_type": "markdown",
   "id": "03d0c0d8-1009-4437-a829-2ad5ce366ddc",
   "metadata": {},
   "source": [
    "# Part 1"
   ]
  },
  {
   "cell_type": "code",
   "execution_count": 34,
   "id": "7e5ab815-be80-432a-8d61-dbf8d1eea3b8",
   "metadata": {},
   "outputs": [],
   "source": [
    "# Import and identify dataframes\n",
    "dept = pd.read_csv(os.path.join(path1,'orders_wrangled.csv'))"
   ]
  },
  {
   "cell_type": "code",
   "execution_count": 9,
   "id": "315ac58b-55c7-4eeb-ab2b-a3ccc20ee0b5",
   "metadata": {},
   "outputs": [
    {
     "data": {
      "text/html": [
       "<div>\n",
       "<style scoped>\n",
       "    .dataframe tbody tr th:only-of-type {\n",
       "        vertical-align: middle;\n",
       "    }\n",
       "\n",
       "    .dataframe tbody tr th {\n",
       "        vertical-align: top;\n",
       "    }\n",
       "\n",
       "    .dataframe thead th {\n",
       "        text-align: right;\n",
       "    }\n",
       "</style>\n",
       "<table border=\"1\" class=\"dataframe\">\n",
       "  <thead>\n",
       "    <tr style=\"text-align: right;\">\n",
       "      <th></th>\n",
       "      <th>user_id</th>\n",
       "      <th>first_name</th>\n",
       "      <th>last_name</th>\n",
       "      <th>gender</th>\n",
       "      <th>state</th>\n",
       "      <th>age</th>\n",
       "      <th>date_joined</th>\n",
       "      <th>n_dependants</th>\n",
       "      <th>marital_status</th>\n",
       "      <th>income</th>\n",
       "      <th>...</th>\n",
       "      <th>Unnamed: 0_y</th>\n",
       "      <th>product_name</th>\n",
       "      <th>aisle_id</th>\n",
       "      <th>department_id</th>\n",
       "      <th>prices</th>\n",
       "      <th>match</th>\n",
       "      <th>busiest_days</th>\n",
       "      <th>busiest_period_of_day</th>\n",
       "      <th>busiest_period_of_days</th>\n",
       "      <th>merge_status</th>\n",
       "    </tr>\n",
       "  </thead>\n",
       "  <tbody>\n",
       "    <tr>\n",
       "      <th>0</th>\n",
       "      <td>26711</td>\n",
       "      <td>Deborah</td>\n",
       "      <td>Esquivel</td>\n",
       "      <td>Female</td>\n",
       "      <td>Missouri</td>\n",
       "      <td>48</td>\n",
       "      <td>2017-01-01</td>\n",
       "      <td>3</td>\n",
       "      <td>married</td>\n",
       "      <td>165665</td>\n",
       "      <td>...</td>\n",
       "      <td>6184</td>\n",
       "      <td>Clementines</td>\n",
       "      <td>32</td>\n",
       "      <td>4</td>\n",
       "      <td>4.3</td>\n",
       "      <td>both</td>\n",
       "      <td>Normal days</td>\n",
       "      <td>Most orders</td>\n",
       "      <td>Most orders</td>\n",
       "      <td>both</td>\n",
       "    </tr>\n",
       "    <tr>\n",
       "      <th>1</th>\n",
       "      <td>26711</td>\n",
       "      <td>Deborah</td>\n",
       "      <td>Esquivel</td>\n",
       "      <td>Female</td>\n",
       "      <td>Missouri</td>\n",
       "      <td>48</td>\n",
       "      <td>2017-01-01</td>\n",
       "      <td>3</td>\n",
       "      <td>married</td>\n",
       "      <td>165665</td>\n",
       "      <td>...</td>\n",
       "      <td>38932</td>\n",
       "      <td>0% Greek Strained Yogurt</td>\n",
       "      <td>120</td>\n",
       "      <td>16</td>\n",
       "      <td>12.6</td>\n",
       "      <td>both</td>\n",
       "      <td>Normal days</td>\n",
       "      <td>Most orders</td>\n",
       "      <td>Most orders</td>\n",
       "      <td>both</td>\n",
       "    </tr>\n",
       "    <tr>\n",
       "      <th>2</th>\n",
       "      <td>26711</td>\n",
       "      <td>Deborah</td>\n",
       "      <td>Esquivel</td>\n",
       "      <td>Female</td>\n",
       "      <td>Missouri</td>\n",
       "      <td>48</td>\n",
       "      <td>2017-01-01</td>\n",
       "      <td>3</td>\n",
       "      <td>married</td>\n",
       "      <td>165665</td>\n",
       "      <td>...</td>\n",
       "      <td>38932</td>\n",
       "      <td>0% Greek Strained Yogurt</td>\n",
       "      <td>120</td>\n",
       "      <td>16</td>\n",
       "      <td>12.6</td>\n",
       "      <td>both</td>\n",
       "      <td>Normal days</td>\n",
       "      <td>Most orders</td>\n",
       "      <td>Most orders</td>\n",
       "      <td>both</td>\n",
       "    </tr>\n",
       "    <tr>\n",
       "      <th>3</th>\n",
       "      <td>26711</td>\n",
       "      <td>Deborah</td>\n",
       "      <td>Esquivel</td>\n",
       "      <td>Female</td>\n",
       "      <td>Missouri</td>\n",
       "      <td>48</td>\n",
       "      <td>2017-01-01</td>\n",
       "      <td>3</td>\n",
       "      <td>married</td>\n",
       "      <td>165665</td>\n",
       "      <td>...</td>\n",
       "      <td>6184</td>\n",
       "      <td>Clementines</td>\n",
       "      <td>32</td>\n",
       "      <td>4</td>\n",
       "      <td>4.3</td>\n",
       "      <td>both</td>\n",
       "      <td>Normal days</td>\n",
       "      <td>Most orders</td>\n",
       "      <td>Most orders</td>\n",
       "      <td>both</td>\n",
       "    </tr>\n",
       "    <tr>\n",
       "      <th>4</th>\n",
       "      <td>26711</td>\n",
       "      <td>Deborah</td>\n",
       "      <td>Esquivel</td>\n",
       "      <td>Female</td>\n",
       "      <td>Missouri</td>\n",
       "      <td>48</td>\n",
       "      <td>2017-01-01</td>\n",
       "      <td>3</td>\n",
       "      <td>married</td>\n",
       "      <td>165665</td>\n",
       "      <td>...</td>\n",
       "      <td>47406</td>\n",
       "      <td>Fuji Apples</td>\n",
       "      <td>24</td>\n",
       "      <td>4</td>\n",
       "      <td>7.1</td>\n",
       "      <td>both</td>\n",
       "      <td>Normal days</td>\n",
       "      <td>Most orders</td>\n",
       "      <td>Most orders</td>\n",
       "      <td>both</td>\n",
       "    </tr>\n",
       "  </tbody>\n",
       "</table>\n",
       "<p>5 rows × 34 columns</p>\n",
       "</div>"
      ],
      "text/plain": [
       "   user_id first_name last_name  gender     state  age date_joined  \\\n",
       "0    26711    Deborah  Esquivel  Female  Missouri   48  2017-01-01   \n",
       "1    26711    Deborah  Esquivel  Female  Missouri   48  2017-01-01   \n",
       "2    26711    Deborah  Esquivel  Female  Missouri   48  2017-01-01   \n",
       "3    26711    Deborah  Esquivel  Female  Missouri   48  2017-01-01   \n",
       "4    26711    Deborah  Esquivel  Female  Missouri   48  2017-01-01   \n",
       "\n",
       "   n_dependants marital_status  income  ...  Unnamed: 0_y  \\\n",
       "0             3        married  165665  ...          6184   \n",
       "1             3        married  165665  ...         38932   \n",
       "2             3        married  165665  ...         38932   \n",
       "3             3        married  165665  ...          6184   \n",
       "4             3        married  165665  ...         47406   \n",
       "\n",
       "               product_name  aisle_id department_id  prices  match  \\\n",
       "0               Clementines        32             4     4.3   both   \n",
       "1  0% Greek Strained Yogurt       120            16    12.6   both   \n",
       "2  0% Greek Strained Yogurt       120            16    12.6   both   \n",
       "3               Clementines        32             4     4.3   both   \n",
       "4               Fuji Apples        24             4     7.1   both   \n",
       "\n",
       "   busiest_days  busiest_period_of_day  busiest_period_of_days  merge_status  \n",
       "0   Normal days            Most orders             Most orders          both  \n",
       "1   Normal days            Most orders             Most orders          both  \n",
       "2   Normal days            Most orders             Most orders          both  \n",
       "3   Normal days            Most orders             Most orders          both  \n",
       "4   Normal days            Most orders             Most orders          both  \n",
       "\n",
       "[5 rows x 34 columns]"
      ]
     },
     "execution_count": 9,
     "metadata": {},
     "output_type": "execute_result"
    }
   ],
   "source": [
    "# 3. Creating a regional segmentation of data.\n",
    "ords_prods_customers_merged.head()"
   ]
  },
  {
   "cell_type": "code",
   "execution_count": 10,
   "id": "ec0a6341-bece-4cd4-9a52-402e636ae2e9",
   "metadata": {},
   "outputs": [],
   "source": [
    "# Assigning Northeast Region.\n",
    "ords_prods_customers_merged.loc[ords_prods_customers_merged['state'] == 'Maine', 'region'] = 'Northeast'\n",
    "ords_prods_customers_merged.loc[ords_prods_customers_merged['state'] == 'New Hampshire', 'region'] = 'Northeast'\n",
    "ords_prods_customers_merged.loc[ords_prods_customers_merged['state'] == 'Vermont', 'region'] = 'Northeast'\n",
    "ords_prods_customers_merged.loc[ords_prods_customers_merged['state'] == 'Pennsylvania', 'region'] = 'Northeast'\n",
    "ords_prods_customers_merged.loc[ords_prods_customers_merged['state'] == 'Massachusetts', 'region'] = 'Northeast'\n",
    "ords_prods_customers_merged.loc[ords_prods_customers_merged['state'] == 'Rhode Island', 'region'] = 'Northeast'\n",
    "ords_prods_customers_merged.loc[ords_prods_customers_merged['state'] == 'Connecticut', 'region'] = 'Northeast'"
   ]
  },
  {
   "cell_type": "code",
   "execution_count": 14,
   "id": "cacb43be-8ce7-4903-b222-dbb470a56056",
   "metadata": {},
   "outputs": [],
   "source": [
    "# Assigning Midwest Region\n",
    "ords_prods_customers_merged.loc[ords_prods_customers_merged['state'] == 'Wisconsin', 'region'] = 'Midwest'\n",
    "ords_prods_customers_merged.loc[ords_prods_customers_merged['state'] == 'Michigan', 'region'] = 'Midwest'\n",
    "ords_prods_customers_merged.loc[ords_prods_customers_merged['state'] == 'Illinois', 'region'] = 'Midwest'\n",
    "ords_prods_customers_merged.loc[ords_prods_customers_merged['state'] == 'Indiana', 'region'] = 'Midwest'\n",
    "ords_prods_customers_merged.loc[ords_prods_customers_merged['state'] == 'Ohio', 'region'] = 'Midwest'"
   ]
  },
  {
   "cell_type": "code",
   "execution_count": 29,
   "id": "cc2822d6-c868-4523-b367-993c3d982b09",
   "metadata": {},
   "outputs": [],
   "source": [
    "# Assigning South Region\n",
    "ords_prods_customers_merged.loc[ords_prods_customers_merged['state'] == 'Delaware', 'region'] = 'South'\n",
    "ords_prods_customers_merged.loc[ords_prods_customers_merged['state'] == 'Maryland', 'region'] = 'South'\n",
    "ords_prods_customers_merged.loc[ords_prods_customers_merged['state'] == 'District of Columbia', 'region'] = 'South'\n",
    "ords_prods_customers_merged.loc[ords_prods_customers_merged['state'] == 'Virginia', 'region'] = 'South'\n",
    "ords_prods_customers_merged.loc[ords_prods_customers_merged['state'] == 'West Virginia', 'region'] = 'South'\n",
    "ords_prods_customers_merged.loc[ords_prods_customers_merged['state'] == 'North Carolina', 'region'] = 'South'\n",
    "ords_prods_customers_merged.loc[ords_prods_customers_merged['state'] == 'South Carolina', 'region'] = 'South'\n",
    "ords_prods_customers_merged.loc[ords_prods_customers_merged['state'] == 'Georgia', 'region'] = 'South'\n",
    "ords_prods_customers_merged.loc[ords_prods_customers_merged['state'] == 'Florida', 'region'] = 'South'"
   ]
  },
  {
   "cell_type": "code",
   "execution_count": null,
   "id": "494b6d34-174f-4c9d-8c6d-d44e391764c8",
   "metadata": {},
   "outputs": [],
   "source": [
    "# Assigning South Region 2\n",
    "ords_prods_customers_merged.loc[ords_prods_customers_merged['state'] == 'Kentucky', 'region'] = 'South'\n",
    "ords_prods_customers_merged.loc[ords_prods_customers_merged['state'] == 'Tennessee', 'region'] = 'South'\n",
    "ords_prods_customers_merged.loc[ords_prods_customers_merged['state'] == 'Mississippi', 'region'] = 'South'\n",
    "ords_prods_customers_merged.loc[ords_prods_customers_merged['state'] == 'Alabama', 'region'] = 'South'"
   ]
  },
  {
   "cell_type": "code",
   "execution_count": null,
   "id": "20a4d407-0ff0-424c-8c69-20ee02421503",
   "metadata": {},
   "outputs": [],
   "source": [
    "# Assigning South Region 3\n",
    "ords_prods_customers_merged.loc[ords_prods_customers_merged['state'] == 'Oklahoma', 'region'] = 'South'\n",
    "ords_prods_customers_merged.loc[ords_prods_customers_merged['state'] == 'Texas', 'region'] = 'South'\n",
    "ords_prods_customers_merged.loc[ords_prods_customers_merged['state'] == 'Arkansas', 'region'] = 'South'\n",
    "ords_prods_customers_merged.loc[ords_prods_customers_merged['state'] == 'Louisiana', 'region'] = 'South'"
   ]
  },
  {
   "cell_type": "code",
   "execution_count": null,
   "id": "10b3be64-3bf0-4e00-b52b-14f1c0cebbac",
   "metadata": {},
   "outputs": [],
   "source": [
    "# Assigning West Region\n",
    "ords_prods_customers_merged.loc[ords_prods_customers_merged['state'] == 'Idaho', 'region'] = 'West'\n",
    "ords_prods_customers_merged.loc[ords_prods_customers_merged['state'] == 'Montana', 'region'] = 'West'\n",
    "ords_prods_customers_merged.loc[ords_prods_customers_merged['state'] == 'Wyoming', 'region'] = 'West'\n",
    "ords_prods_customers_merged.loc[ords_prods_customers_merged['state'] == 'Nevada', 'region'] = 'West'\n",
    "ords_prods_customers_merged.loc[ords_prods_customers_merged['state'] == 'Utah', 'region'] = 'West'\n",
    "ords_prods_customers_merged.loc[ords_prods_customers_merged['state'] == 'Colorado', 'region'] = 'West'\n",
    "ords_prods_customers_merged.loc[ords_prods_customers_merged['state'] == 'Arizona', 'region'] = 'West'\n",
    "ords_prods_customers_merged.loc[ords_prods_customers_merged['state'] == 'New Mexico', 'region'] = 'West'"
   ]
  },
  {
   "cell_type": "code",
   "execution_count": null,
   "id": "f734ef31-2b24-4526-aced-b98286b37895",
   "metadata": {},
   "outputs": [],
   "source": [
    "# Assigning West Region2\n",
    "ords_prods_customers_merged.loc[ords_prods_customers_merged['state'] == 'Alaska', 'region'] = 'West'\n",
    "ords_prods_customers_merged.loc[ords_prods_customers_merged['state'] == 'Washington', 'region'] = 'West'\n",
    "ords_prods_customers_merged.loc[ords_prods_customers_merged['state'] == 'Oregon', 'region'] = 'West'\n",
    "ords_prods_customers_merged.loc[ords_prods_customers_merged['state'] == 'California', 'region'] = 'West'\n",
    "ords_prods_customers_merged.loc[ords_prods_customers_merged['state'] == 'Hawaii', 'region'] = 'West'"
   ]
  },
  {
   "cell_type": "code",
   "execution_count": null,
   "id": "806b4901-b1ad-42c9-bc86-46a02d8c37b5",
   "metadata": {},
   "outputs": [],
   "source": [
    "ords_prods_customers_merged.head()"
   ]
  },
  {
   "cell_type": "code",
   "execution_count": null,
   "id": "2837669d-62a3-4fea-aa52-c4f441c801a1",
   "metadata": {},
   "outputs": [],
   "source": [
    "# 3. Crossing the variable with the spending flag\n",
    "crosstab = pd.crosstab(ords_prods_customers_merged['region'], ords_prods_customers_merged['spender_flag'], dropna = False)"
   ]
  },
  {
   "cell_type": "code",
   "execution_count": null,
   "id": "6cc52bc2-1cb3-4265-aeee-5db129e38238",
   "metadata": {},
   "outputs": [],
   "source": [
    "crosstab.to_clipboard()"
   ]
  },
  {
   "cell_type": "code",
   "execution_count": null,
   "id": "95f6025d-a523-4e37-89dc-00b2c129789c",
   "metadata": {},
   "outputs": [],
   "source": [
    "ords_prods_customers_merged.to_pickle(os.path.join(path1,'orders_products_customers.pkl'))"
   ]
  },
  {
   "cell_type": "code",
   "execution_count": null,
   "id": "58d80b6d-556c-4969-933e-180987881268",
   "metadata": {},
   "outputs": [],
   "source": [
    "# 4. Create an exclusion flag for low-activity customers (customers with less than 5 orders) and exclude them from the data. Make sure you export this sample.\n",
    "ords_prods_customers_merged.loc[ords_prods_customers_merged['max_order'] < 5, 'activity_flag'] = 'low-activity customer'\n",
    "ords_prods_customers_merged.loc[ords_prods_customers_merged['max_order'] >= 5, 'activity_flag'] = 'high-activity customer'"
   ]
  },
  {
   "cell_type": "code",
   "execution_count": null,
   "id": "abda110a-b246-4119-a47b-c68fe5a88069",
   "metadata": {},
   "outputs": [],
   "source": [
    "ords_prods_customers_merged['activity_flag'].value_counts(dropna = False)"
   ]
  },
  {
   "cell_type": "code",
   "execution_count": null,
   "id": "8a7c540c-7aa4-4e83-a785-8eb65c3d0208",
   "metadata": {},
   "outputs": [],
   "source": [
    "# Excluding low-activity customers from the dataframe\n",
    "df_excluded = ords_prods_customers_merged[ords_prods_customers_merged['activity_flag'] != 'low-activity customer']"
   ]
  },
  {
   "cell_type": "code",
   "execution_count": null,
   "id": "94a23413-d47e-4de0-879e-00a6481a72aa",
   "metadata": {},
   "outputs": [],
   "source": [
    "# Exporting the new dataframe\n",
    "df_excluded.to_pickle(os.path.join(path1,'low_activity_excluded.pkl'))"
   ]
  },
  {
   "cell_type": "code",
   "execution_count": null,
   "id": "aa90ffd4-204c-41f4-9d7b-95e0de51d0bd",
   "metadata": {},
   "outputs": [],
   "source": [
    "# 5. Create an income group variable\n",
    "df_excluded.loc[df_excluded['income'] <= 55000, 'income_group'] = 'low-income'\n",
    "df_excluded.loc[(df_excluded['income'] > 55000) & (df_excluded['income'] <= 150000), 'income_group'] = 'middle-income'\n",
    "df_excluded.loc[df_excluded['income'] > 150000, 'income_group'] = 'high-income'"
   ]
  },
  {
   "cell_type": "code",
   "execution_count": null,
   "id": "41eb9f7f-86e7-4ab9-a4c2-0a2949f7bb88",
   "metadata": {},
   "outputs": [],
   "source": [
    "# 6. Creating a bar chart showing the distribution of income groups\n",
    "income_group_counts = df_excluded['income_group'].value_counts(dropna=False)\n",
    "income_group_distribution_bar = income_group_counts.plot.bar()  \n",
    "plt.title('Distribution of Income Groups')\n",
    "plt.xlabel('')\n",
    "plt.ylabel('Count')\n",
    "plt.show()"
   ]
  },
  {
   "cell_type": "code",
   "execution_count": null,
   "id": "d857494d-a8a2-46a3-aff5-2ca3abefdc37",
   "metadata": {},
   "outputs": [],
   "source": [
    "# Exporting the bar chart\n",
    "income_group_distribution_bar.figure.savefig(os.path.join(path2,'income_distribution_bar.png'))"
   ]
  },
  {
   "cell_type": "code",
   "execution_count": null,
   "id": "f6220694-cc43-4316-a381-5fa2bc6e139f",
   "metadata": {},
   "outputs": [],
   "source": [
    "# Create an age group variable\n",
    "df_excluded.loc[df_excluded['age'] <= 25, 'age_group'] = 'young adult'\n",
    "df_excluded.loc[(df_excluded['age'] > 25) & (df_excluded['age'] <= 44), 'age_group'] = 'adult'\n",
    "df_excluded.loc[(df_excluded['age'] > 44) & (df_excluded['age'] <= 64), 'age_group'] = 'middle-aged'\n",
    "df_excluded.loc[df_excluded['age'] > 64, 'age_group'] = 'senior'"
   ]
  },
  {
   "cell_type": "code",
   "execution_count": null,
   "id": "6223163f-e5f4-4a37-b18d-83844fb6590c",
   "metadata": {},
   "outputs": [],
   "source": [
    "# Check value counts for each age group\n",
    "age_group_counts = df_excluded['age_group'].value_counts(dropna = False)\n",
    "age_group_counts"
   ]
  },
  {
   "cell_type": "code",
   "execution_count": null,
   "id": "29ba82d3-72e0-4ab7-b6d6-1342dbacf6f5",
   "metadata": {},
   "outputs": [],
   "source": [
    "# Make a pie chart showing the distribution of age groups\n",
    "age_group_distribution_pie = age_group_counts.plot.pie(autopct='%1.1f%%', labels= ['middle-aged: 45-64 years', 'adult: 26-44 years', 'senior: 65+ years', 'young adult: up to 25 years'], startangle=90, colors=['#ff9999','#66b3ff','#99ff99','#ffcc99'])\n",
    "plt.ylabel('')  # Hide the y-label\n",
    "plt.title('Distribution of Age Groups')\n",
    "plt.show()"
   ]
  },
  {
   "cell_type": "code",
   "execution_count": null,
   "id": "28ecd597-626a-43e5-bf61-857bbb68b33b",
   "metadata": {},
   "outputs": [],
   "source": [
    "# Exporting chart\n",
    "age_group_distribution_pie.figure.savefig(os.path.join(path2,'age_group_distribution_pie.png'))"
   ]
  },
  {
   "cell_type": "code",
   "execution_count": null,
   "id": "d7ef9320-2653-4a32-8fc3-3ea8bff1ebf3",
   "metadata": {},
   "outputs": [],
   "source": [
    "# Creating a dependents flag\n",
    "df_excluded.loc[df_excluded['n_dependants'] == 0, 'dependants_flag'] = 'no dependants'\n",
    "df_excluded.loc[df_excluded['n_dependants'] >= 1, 'dependants_flag'] = 'has dependants'"
   ]
  },
  {
   "cell_type": "code",
   "execution_count": null,
   "id": "e9e28c05-8c2e-4959-8210-248ffec0af71",
   "metadata": {},
   "outputs": [],
   "source": [
    "# Check value counts\n",
    "dependant_counts = df_excluded['dependants_flag'].value_counts(dropna = False)\n",
    "dependant_counts"
   ]
  },
  {
   "cell_type": "code",
   "execution_count": null,
   "id": "41548d8c-045b-4f9a-8327-a8c4e03b764e",
   "metadata": {},
   "outputs": [],
   "source": [
    "# Making a pie chart showing the percentage of dependants\n",
    "dependants_pie = dependant_counts.plot.pie(autopct='%1.1f%%', labels= ['has dependants', 'no dependants'], startangle=90, colors=['#ff9999','#66b3ff'])\n",
    "plt.ylabel('')  # Hide the y-label\n",
    "plt.title('Percentage Having Dependants')\n",
    "plt.show()"
   ]
  },
  {
   "cell_type": "code",
   "execution_count": null,
   "id": "e4d471e1-c216-4b38-98dd-b2fa3eb40f60",
   "metadata": {},
   "outputs": [],
   "source": [
    "# Exporting the new dataframe\n",
    "df_excluded.to_pickle(os.path.join(path, '02 Data','Prepared Data', 'low_activity_excluded.pkl'))"
   ]
  },
  {
   "cell_type": "code",
   "execution_count": null,
   "id": "7b152149-80bb-4a65-a456-630467fa3e48",
   "metadata": {},
   "outputs": [],
   "source": [
    "list(df_excluded.columns.values)"
   ]
  },
  {
   "cell_type": "code",
   "execution_count": null,
   "id": "754eff7f-1704-4e2f-8d67-bf7a1681f69a",
   "metadata": {},
   "outputs": [],
   "source": [
    "# Crosstab loyalty with age group\n",
    "loyalty_age_cross = pd.crosstab(df_excluded['loyalty_flag'], df_excluded['age_group'], dropna = False)\n",
    "loyalty_age_cross"
   ]
  },
  {
   "cell_type": "code",
   "execution_count": null,
   "id": "427912ff-5654-435a-8814-e2c32544a59d",
   "metadata": {},
   "outputs": [],
   "source": [
    "# Creating a bar chart\n",
    "loyalty_age_bar = loyalty_age_cross.plot.bar()\n",
    "plt.title('Loyalty by Age Group')\n",
    "plt.xlabel('')\n",
    "plt.ylabel('count')\n",
    "plt.xticks(rotation=0)"
   ]
  },
  {
   "cell_type": "code",
   "execution_count": null,
   "id": "d21bf9ec-a6cf-4fb1-975b-150c1af6cfb7",
   "metadata": {},
   "outputs": [],
   "source": [
    "# Exporting the chart\n",
    "loyalty_age_bar.figure.savefig(os.path.join(path2,'loyalty_age_group_bar.png'))"
   ]
  },
  {
   "cell_type": "code",
   "execution_count": null,
   "id": "63a31396-a702-4331-8d7a-6a96660a07fe",
   "metadata": {},
   "outputs": [],
   "source": [
    "# Crosstabing spending with age group\n",
    "spending_age_cross = pd.crosstab(df_excluded['spender_flag'], df_excluded['age_group'], dropna = False)\n",
    "spending_age_cross"
   ]
  },
  {
   "cell_type": "code",
   "execution_count": null,
   "id": "1da85af1-eae4-4c30-8445-79a6e0c268db",
   "metadata": {},
   "outputs": [],
   "source": [
    "# Creating a bar chart\n",
    "spending_age_bar = spending_age_cross.plot.bar()\n",
    "plt.title('Spending by Age Group')\n",
    "plt.xlabel('')\n",
    "plt.ylabel('count')\n",
    "plt.xticks(rotation=0)"
   ]
  },
  {
   "cell_type": "code",
   "execution_count": null,
   "id": "b30809b4-cb22-48e7-a5c4-3d892672f1d8",
   "metadata": {},
   "outputs": [],
   "source": [
    "# Exporting the chart\n",
    "spending_age_bar.figure.savefig(os.path.join(path2,'spending_age_group_bar.png'))"
   ]
  },
  {
   "cell_type": "code",
   "execution_count": null,
   "id": "d8b79c4f-cacb-4bd9-802c-1016697fcd56",
   "metadata": {},
   "outputs": [],
   "source": [
    "df_excluded.loc[df_excluded['state'] == 'Pennsylvania', 'region'] = 'Northeast'"
   ]
  },
  {
   "cell_type": "code",
   "execution_count": null,
   "id": "a290f19c-1a67-4fc6-beb7-4753e178a620",
   "metadata": {},
   "outputs": [],
   "source": [
    "# Crosstabing Region to spending flag\n",
    "region_spending_cross = pd.crosstab(df_excluded['region'], df_excluded['spender_flag'], dropna = False)"
   ]
  },
  {
   "cell_type": "code",
   "execution_count": null,
   "id": "362ffa93-ad55-43c5-bf1d-497aad3baf6a",
   "metadata": {},
   "outputs": [],
   "source": [
    "region_spending_cross"
   ]
  },
  {
   "cell_type": "code",
   "execution_count": null,
   "id": "f02b75d4-7ec4-4929-8aa1-964017250d33",
   "metadata": {},
   "outputs": [],
   "source": [
    "# Creating bar chart\n",
    "region_spending_bar = region_spending_cross.plot.bar()\n",
    "plt.title('Spending by Region')\n",
    "plt.xlabel('')\n",
    "plt.ylabel('count')\n",
    "plt.xticks(rotation=0"
   ]
  },
  {
   "cell_type": "code",
   "execution_count": null,
   "id": "732623c1-88c2-4a58-a83b-4a4b36bd2eaf",
   "metadata": {},
   "outputs": [],
   "source": [
    "# Exporting the chart\n",
    "region_spending_bar.figure.savefig(os.path.join(path2,'region_spending_bar.png'))"
   ]
  },
  {
   "cell_type": "code",
   "execution_count": 36,
   "id": "d73d2c1e-8feb-4cc6-a05d-5a6491ccebdd",
   "metadata": {},
   "outputs": [
    {
     "data": {
      "text/html": [
       "<div>\n",
       "<style scoped>\n",
       "    .dataframe tbody tr th:only-of-type {\n",
       "        vertical-align: middle;\n",
       "    }\n",
       "\n",
       "    .dataframe tbody tr th {\n",
       "        vertical-align: top;\n",
       "    }\n",
       "\n",
       "    .dataframe thead th {\n",
       "        text-align: right;\n",
       "    }\n",
       "</style>\n",
       "<table border=\"1\" class=\"dataframe\">\n",
       "  <thead>\n",
       "    <tr style=\"text-align: right;\">\n",
       "      <th></th>\n",
       "      <th>Unnamed: 0.1</th>\n",
       "      <th>Unnamed: 0</th>\n",
       "      <th>order_id</th>\n",
       "      <th>user_id</th>\n",
       "      <th>eval_set</th>\n",
       "      <th>order_number</th>\n",
       "      <th>order_dow</th>\n",
       "      <th>order_hour_of_day</th>\n",
       "      <th>days_since_prior_order</th>\n",
       "      <th>new_customer</th>\n",
       "    </tr>\n",
       "  </thead>\n",
       "  <tbody>\n",
       "    <tr>\n",
       "      <th>0</th>\n",
       "      <td>0</td>\n",
       "      <td>0</td>\n",
       "      <td>2539329</td>\n",
       "      <td>1</td>\n",
       "      <td>prior</td>\n",
       "      <td>1</td>\n",
       "      <td>2</td>\n",
       "      <td>8</td>\n",
       "      <td>NaN</td>\n",
       "      <td>True</td>\n",
       "    </tr>\n",
       "    <tr>\n",
       "      <th>1</th>\n",
       "      <td>1</td>\n",
       "      <td>1</td>\n",
       "      <td>2398795</td>\n",
       "      <td>1</td>\n",
       "      <td>prior</td>\n",
       "      <td>2</td>\n",
       "      <td>3</td>\n",
       "      <td>7</td>\n",
       "      <td>15.0</td>\n",
       "      <td>False</td>\n",
       "    </tr>\n",
       "    <tr>\n",
       "      <th>2</th>\n",
       "      <td>2</td>\n",
       "      <td>2</td>\n",
       "      <td>473747</td>\n",
       "      <td>1</td>\n",
       "      <td>prior</td>\n",
       "      <td>3</td>\n",
       "      <td>3</td>\n",
       "      <td>12</td>\n",
       "      <td>21.0</td>\n",
       "      <td>False</td>\n",
       "    </tr>\n",
       "    <tr>\n",
       "      <th>3</th>\n",
       "      <td>3</td>\n",
       "      <td>3</td>\n",
       "      <td>2254736</td>\n",
       "      <td>1</td>\n",
       "      <td>prior</td>\n",
       "      <td>4</td>\n",
       "      <td>4</td>\n",
       "      <td>7</td>\n",
       "      <td>29.0</td>\n",
       "      <td>False</td>\n",
       "    </tr>\n",
       "    <tr>\n",
       "      <th>4</th>\n",
       "      <td>4</td>\n",
       "      <td>4</td>\n",
       "      <td>431534</td>\n",
       "      <td>1</td>\n",
       "      <td>prior</td>\n",
       "      <td>5</td>\n",
       "      <td>4</td>\n",
       "      <td>15</td>\n",
       "      <td>28.0</td>\n",
       "      <td>False</td>\n",
       "    </tr>\n",
       "    <tr>\n",
       "      <th>...</th>\n",
       "      <td>...</td>\n",
       "      <td>...</td>\n",
       "      <td>...</td>\n",
       "      <td>...</td>\n",
       "      <td>...</td>\n",
       "      <td>...</td>\n",
       "      <td>...</td>\n",
       "      <td>...</td>\n",
       "      <td>...</td>\n",
       "      <td>...</td>\n",
       "    </tr>\n",
       "    <tr>\n",
       "      <th>3421078</th>\n",
       "      <td>3421078</td>\n",
       "      <td>3421078</td>\n",
       "      <td>2266710</td>\n",
       "      <td>206209</td>\n",
       "      <td>prior</td>\n",
       "      <td>10</td>\n",
       "      <td>5</td>\n",
       "      <td>18</td>\n",
       "      <td>29.0</td>\n",
       "      <td>False</td>\n",
       "    </tr>\n",
       "    <tr>\n",
       "      <th>3421079</th>\n",
       "      <td>3421079</td>\n",
       "      <td>3421079</td>\n",
       "      <td>1854736</td>\n",
       "      <td>206209</td>\n",
       "      <td>prior</td>\n",
       "      <td>11</td>\n",
       "      <td>4</td>\n",
       "      <td>10</td>\n",
       "      <td>30.0</td>\n",
       "      <td>False</td>\n",
       "    </tr>\n",
       "    <tr>\n",
       "      <th>3421080</th>\n",
       "      <td>3421080</td>\n",
       "      <td>3421080</td>\n",
       "      <td>626363</td>\n",
       "      <td>206209</td>\n",
       "      <td>prior</td>\n",
       "      <td>12</td>\n",
       "      <td>1</td>\n",
       "      <td>12</td>\n",
       "      <td>18.0</td>\n",
       "      <td>False</td>\n",
       "    </tr>\n",
       "    <tr>\n",
       "      <th>3421081</th>\n",
       "      <td>3421081</td>\n",
       "      <td>3421081</td>\n",
       "      <td>2977660</td>\n",
       "      <td>206209</td>\n",
       "      <td>prior</td>\n",
       "      <td>13</td>\n",
       "      <td>1</td>\n",
       "      <td>12</td>\n",
       "      <td>7.0</td>\n",
       "      <td>False</td>\n",
       "    </tr>\n",
       "    <tr>\n",
       "      <th>3421082</th>\n",
       "      <td>3421082</td>\n",
       "      <td>3421082</td>\n",
       "      <td>272231</td>\n",
       "      <td>206209</td>\n",
       "      <td>train</td>\n",
       "      <td>14</td>\n",
       "      <td>6</td>\n",
       "      <td>14</td>\n",
       "      <td>30.0</td>\n",
       "      <td>False</td>\n",
       "    </tr>\n",
       "  </tbody>\n",
       "</table>\n",
       "<p>3421083 rows × 10 columns</p>\n",
       "</div>"
      ],
      "text/plain": [
       "         Unnamed: 0.1  Unnamed: 0  order_id  user_id eval_set  order_number  \\\n",
       "0                   0           0   2539329        1    prior             1   \n",
       "1                   1           1   2398795        1    prior             2   \n",
       "2                   2           2    473747        1    prior             3   \n",
       "3                   3           3   2254736        1    prior             4   \n",
       "4                   4           4    431534        1    prior             5   \n",
       "...               ...         ...       ...      ...      ...           ...   \n",
       "3421078       3421078     3421078   2266710   206209    prior            10   \n",
       "3421079       3421079     3421079   1854736   206209    prior            11   \n",
       "3421080       3421080     3421080    626363   206209    prior            12   \n",
       "3421081       3421081     3421081   2977660   206209    prior            13   \n",
       "3421082       3421082     3421082    272231   206209    train            14   \n",
       "\n",
       "         order_dow  order_hour_of_day  days_since_prior_order  new_customer  \n",
       "0                2                  8                     NaN          True  \n",
       "1                3                  7                    15.0         False  \n",
       "2                3                 12                    21.0         False  \n",
       "3                4                  7                    29.0         False  \n",
       "4                4                 15                    28.0         False  \n",
       "...            ...                ...                     ...           ...  \n",
       "3421078          5                 18                    29.0         False  \n",
       "3421079          4                 10                    30.0         False  \n",
       "3421080          1                 12                    18.0         False  \n",
       "3421081          1                 12                     7.0         False  \n",
       "3421082          6                 14                    30.0         False  \n",
       "\n",
       "[3421083 rows x 10 columns]"
      ]
     },
     "execution_count": 36,
     "metadata": {},
     "output_type": "execute_result"
    }
   ],
   "source": [
    "dept"
   ]
  },
  {
   "cell_type": "code",
   "execution_count": null,
   "id": "dca1bfe5-66ce-4583-b796-0ac7ca4cf1dc",
   "metadata": {},
   "outputs": [],
   "source": [
    "df_excluded.drop(columns = ['_merge','Unnamed: 0'])"
   ]
  },
  {
   "cell_type": "code",
   "execution_count": null,
   "id": "1a1aee02-6990-4b74-9807-64567cfd2773",
   "metadata": {},
   "outputs": [],
   "source": [
    "df_final_merged = df_excluded.merge(dept, on='department_id', indicator='created')"
   ]
  },
  {
   "cell_type": "code",
   "execution_count": null,
   "id": "f9fe380b-c75a-4cc4-becf-a6ed66c33e40",
   "metadata": {},
   "outputs": [],
   "source": [
    "# Exporting new dataframe with department merged \n",
    "df_final_merged.to_pickle(os.path.join(path1,'orders_products_customers_departments.pkl'))"
   ]
  },
  {
   "cell_type": "code",
   "execution_count": null,
   "id": "d0241982-4726-4d0a-82c0-595a5c64c742",
   "metadata": {},
   "outputs": [],
   "source": [
    "# Creating a bar chart frequency of orders vs department\n",
    "depts_bar = df_final_merged['department'].value_counts(ascending=True).plot(kind='barh', color='blue', xlabel = 'Count', title='Products Ordered by Department')"
   ]
  },
  {
   "cell_type": "code",
   "execution_count": null,
   "id": "26673fcd-8219-4fa2-8e53-6fe082caf2ca",
   "metadata": {},
   "outputs": [],
   "source": [
    "# Exporting bar chart\n",
    "depts_bar.figure.savefig(os.path.join(path2, 'depts_bar.png'))"
   ]
  },
  {
   "cell_type": "code",
   "execution_count": null,
   "id": "b5b326df-b997-46a5-882a-9a049c5b2cf8",
   "metadata": {},
   "outputs": [],
   "source": [
    "# Crosstabing age group vs department\n",
    "age_dept_cross = pd.crosstab(df_final_merged['age_group'], df_final_merged['department'], dropna = False)\n",
    "age_dept_cross"
   ]
  },
  {
   "cell_type": "code",
   "execution_count": null,
   "id": "8d578236-a51b-41a4-918a-11e970174b84",
   "metadata": {},
   "outputs": [],
   "source": [
    "Creating a bar chart\n",
    "age_dept_bar = age_dept_cross.plot(kind = 'barh', figsize=(14,10))\n",
    "plt.title('Department Sales by Age Group')\n",
    "plt.xlabel('products count')\n",
    "plt.ylabel('age group')\n",
    "# Move legend outside of plot\n",
    "plt.legend(title='Department', bbox_to_anchor=(1.05, 1), loc='upper left', fontsize=12, title_fontsize=14)"
   ]
  },
  {
   "cell_type": "code",
   "execution_count": null,
   "id": "c56996f9-cb93-4fd3-ad41-e90eb2a0d718",
   "metadata": {},
   "outputs": [],
   "source": [
    "# Exporting the bar chart\n",
    "age_dept_bar.figure.savefig(os.path.join(path2,'age_depts_bar.png'))"
   ]
  },
  {
   "cell_type": "code",
   "execution_count": null,
   "id": "05cf0933-864d-4393-9b9a-b2c2d47ef9eb",
   "metadata": {},
   "outputs": [],
   "source": [
    "# Crosstabing income group vs department\n",
    "income_dept_cross = pd.crosstab(df_final_merged['income_group'], df_final_merged['department'], dropna = False)\n",
    "income_dept_cross"
   ]
  },
  {
   "cell_type": "code",
   "execution_count": null,
   "id": "2bb077bf-61c5-4874-9f0f-147ced30f9c7",
   "metadata": {},
   "outputs": [],
   "source": [
    "# Creating a bar chart\n",
    "income_dept_bar = income_dept_cross.plot(kind = 'barh', figsize=(14,10))\n",
    "plt.title('Department Sales by Income Group')\n",
    "plt.xlabel('products count')\n",
    "plt.ylabel('income group')\n",
    "# Moving the legend outside of the plot\n",
    "plt.legend(title='Department', bbox_to_anchor=(1.05, 1), loc='upper left', fontsize=12, title_fontsize=14)"
   ]
  },
  {
   "cell_type": "code",
   "execution_count": null,
   "id": "0256b718-fe2a-45ed-b1ca-91d4ace22cae",
   "metadata": {},
   "outputs": [],
   "source": [
    "# Exporting the bar chart\n",
    "income_dept_bar.figure.savefig(os.path.join(path2,'income_depts_bar.png'))"
   ]
  },
  {
   "cell_type": "code",
   "execution_count": null,
   "id": "d62a8d24-6c0e-4131-bd59-d7426f88f0ee",
   "metadata": {},
   "outputs": [],
   "source": [
    "# 7. Aggregate the max, mean, and min variables on a customer-profile level for usage frequency and expenditure.\n",
    "customer_profile = df_final_merged.groupby(['user_id', 'gender', 'state', 'region', 'n_dependants', 'fam_status', 'age_group', 'order_number', 'orders_day_of_week', 'order_hour_of_day', 'loyalty_flag', 'customer_frequency', 'dependants_flag', 'income_group', 'spender_flag'])['prices'].sum().reset_index()"
   ]
  },
  {
   "cell_type": "code",
   "execution_count": null,
   "id": "55b41451-5317-42be-b13c-576b0b1e3991",
   "metadata": {},
   "outputs": [],
   "source": [
    "customer_profile.head()"
   ]
  },
  {
   "cell_type": "code",
   "execution_count": null,
   "id": "2a11f162-51f6-4638-852b-6a4f6b08cdfb",
   "metadata": {},
   "outputs": [],
   "source": [
    "# Aggregating variables for customer profiles for expenditure\n",
    "customer_agg = customer_profile.groupby('user_id').agg({'order_number': ['max', 'min', 'mean'], 'prices': ['max', 'min', 'mean']})"
   ]
  },
  {
   "cell_type": "code",
   "execution_count": null,
   "id": "0860088d-9882-4a75-bea9-870a863da83e",
   "metadata": {},
   "outputs": [],
   "source": [
    "customer_agg"
   ]
  },
  {
   "cell_type": "code",
   "execution_count": null,
   "id": "816a597d-a5df-4614-a910-89135933433e",
   "metadata": {},
   "outputs": [],
   "source": [
    "# Aggregating variables for customer profiles for usage frequency\n",
    "freq_agg = df_excluded.groupby('user_id').agg({'order_number': ['max', 'min', 'mean'], 'days_since_prior_order': ['max', 'min', 'mean']})"
   ]
  },
  {
   "cell_type": "code",
   "execution_count": null,
   "id": "d1c81127-66af-4632-878a-f3efc4a32822",
   "metadata": {},
   "outputs": [],
   "source": [
    "freq_agg"
   ]
  },
  {
   "cell_type": "code",
   "execution_count": null,
   "id": "3547ce83-f774-4eda-a065-122236567c81",
   "metadata": {},
   "outputs": [],
   "source": [
    "# 8. Compare your customer profiles with regions and departments\n",
    "region_dept_cross = pd.crosstab(df_final_merged['region'], df_final_merged['department'], dropna = False)\n",
    "region_dept_cross"
   ]
  },
  {
   "cell_type": "code",
   "execution_count": null,
   "id": "1211db44-1565-49be-afaf-4db40b236e11",
   "metadata": {},
   "outputs": [],
   "source": [
    "# Creating a bar chart\n",
    "region_dept_bar = region_dept_cross.plot(kind = 'barh', figsize=(14,10))\n",
    "plt.title('Department Sales by Region')\n",
    "plt.xlabel('products count')\n",
    "plt.ylabel('region')\n",
    "# Move legend outside of plot\n",
    "plt.legend(title='Department', bbox_to_anchor=(1.05, 1), loc='upper left', fontsize=12, title_fontsize=14)"
   ]
  },
  {
   "cell_type": "code",
   "execution_count": null,
   "id": "45809dba-c1e1-48cd-a2b1-d1cb4639464b",
   "metadata": {},
   "outputs": [],
   "source": [
    "# Exporting the bar chart\n",
    "region_dept_bar.figure.savefig(os.path.join(path2,'region_depts_bar.png'))"
   ]
  },
  {
   "cell_type": "code",
   "execution_count": null,
   "id": "35004e7f-afb4-436b-ac01-8265b7e86a4b",
   "metadata": {},
   "outputs": [],
   "source": [
    "# Exporting the bar chart orders by day of week\n",
    "orders_dow_bar = df['orders_day_of_week'].value_counts().sort_index().plot.bar(color = 'blue')\n",
    "orders_dow_bar.set_title('Orders by Day of Week')\n",
    "orders_dow_bar.set_xticklabels(['Saturday', 'Sunday', 'Monday', 'Tuesday', 'Wednesday', 'Thursday', 'Friday'], rotation=0)\n",
    "orders_dow_bar.set_xlabel(\"\")"
   ]
  },
  {
   "cell_type": "code",
   "execution_count": null,
   "id": "cdc099c6-7efd-4d84-a2f4-6a902f968d5c",
   "metadata": {},
   "outputs": [],
   "source": [
    "# Exporting the bar chart\n",
    "orders_dow_bar.figure.savefig(os.path.join(path2,'orders_dow_bar.png'))"
   ]
  },
  {
   "cell_type": "code",
   "execution_count": null,
   "id": "b95e04d4-125b-4890-b86d-2153ad127764",
   "metadata": {},
   "outputs": [],
   "source": [
    "# Histogram of hours of the day\n",
    "histogr_of_day = df['order_hour_of_day'].plot.hist(bins = 24)\n",
    "plt.title('Orders by Hour of Day')\n",
    "plt.xlabel('Hour of Day (24 hr clock)')"
   ]
  },
  {
   "cell_type": "code",
   "execution_count": null,
   "id": "dca8e3e5-5671-4760-ba90-2249b93bd0ee",
   "metadata": {},
   "outputs": [],
   "source": [
    "# Exporting the histogram\n",
    "histogr_of_day.figure.savefig(os.path.join(path2,'histogr_of_day.png'))"
   ]
  },
  {
   "cell_type": "code",
   "execution_count": null,
   "id": "90b329c1-22a5-4b43-a43c-d81d9b715d4d",
   "metadata": {},
   "outputs": [],
   "source": [
    "# Crosstabing loyalty with age group\n",
    "loyalty_income_cross = pd.crosstab(df['loyalty_flag'], df['income_group'], dropna = False)\n",
    "loyalty_income_cross"
   ]
  },
  {
   "cell_type": "code",
   "execution_count": null,
   "id": "9f132252-86a7-4cf4-851c-98399f1ee637",
   "metadata": {},
   "outputs": [],
   "source": [
    "# Creating the bar chart\n",
    "loyalty_income_bar = loyalty_income_cross.plot.bar()\n",
    "plt.title('Loyalty by Income Group')\n",
    "plt.xlabel('')\n",
    "plt.ylabel('count')\n",
    "plt.xticks(rotation=0)"
   ]
  },
  {
   "cell_type": "code",
   "execution_count": null,
   "id": "b30d662c-040d-445a-84f7-07cf1d562eb5",
   "metadata": {},
   "outputs": [],
   "source": [
    "# Exporting the chart\n",
    "loyalty_income_bar.figure.savefig(os.path.join(path2, 'loyalty_income_group_bar.png'))"
   ]
  },
  {
   "cell_type": "code",
   "execution_count": null,
   "id": "6ffccae8-c444-4a73-9e65-117fc0123e7e",
   "metadata": {},
   "outputs": [],
   "source": [
    "# Creating the bar chart\n",
    "loyalty_spender_bar = loyalty_spender_cross.plot.bar()\n",
    "plt.title('Loyalty by Spender flag')\n",
    "plt.xlabel('')\n",
    "plt.ylabel('count')\n",
    "plt.xticks(rotation=0)"
   ]
  },
  {
   "cell_type": "code",
   "execution_count": null,
   "id": "f5376250-318c-4ef6-ac5f-15d90db20976",
   "metadata": {},
   "outputs": [],
   "source": [
    "# Exporting the chart\n",
    "loyalty_spender_bar.figure.savefig(os.path.join(path2, 'loyalty_spender_bar.png'))"
   ]
  },
  {
   "cell_type": "code",
   "execution_count": null,
   "id": "5c368df4-f31a-43a3-a8da-a55e6d012faf",
   "metadata": {},
   "outputs": [],
   "source": [
    "# Crosstabing loyalty with family status\n",
    "loyalty_fam_cross = pd.crosstab(df['loyalty_flag'], df['fam_status'], dropna = False)\n",
    "loyalty_fam_cross"
   ]
  },
  {
   "cell_type": "code",
   "execution_count": null,
   "id": "c8570441-cf56-424a-98fc-dae0fbf6b8ad",
   "metadata": {},
   "outputs": [],
   "source": [
    "# Creating the bar chart\n",
    "loyalty_fam_bar = loyalty_fam_cross.plot.bar()\n",
    "plt.title('Loyalty by Family Status')\n",
    "plt.xlabel('')\n",
    "plt.ylabel('count')\n",
    "plt.xticks(rotation=0)"
   ]
  },
  {
   "cell_type": "code",
   "execution_count": null,
   "id": "87fadb49-2541-4459-b008-1360fa6a3541",
   "metadata": {},
   "outputs": [],
   "source": [
    "# Exporting the chart\n",
    "loyalty_fam_bar.figure.savefig(os.path.join(path2, 'loyalty_fam_bar.png'))"
   ]
  },
  {
   "cell_type": "code",
   "execution_count": null,
   "id": "765ff601-0fac-49af-b0cb-0463f08361c4",
   "metadata": {},
   "outputs": [],
   "source": [
    "# Crosstabing loyalty with dependants\n",
    "loyalty_depend_cross = pd.crosstab(df['loyalty_flag'], df['dependants_flag'], dropna = False)\n",
    "loyalty_depend_cross"
   ]
  },
  {
   "cell_type": "code",
   "execution_count": null,
   "id": "0e12100d-b616-431b-9aa6-15f05003a085",
   "metadata": {},
   "outputs": [],
   "source": [
    "# Creating the bar chart\n",
    "loyalty_depend_bar = loyalty_depend_cross.plot.bar()\n",
    "plt.title('Loyalty by Dependants Status')\n",
    "plt.xlabel('')\n",
    "plt.ylabel('count')\n",
    "plt.xticks(rotation=0)"
   ]
  },
  {
   "cell_type": "code",
   "execution_count": null,
   "id": "2327cc0b-9578-4f70-a078-d2f2bfa27801",
   "metadata": {},
   "outputs": [],
   "source": [
    "# Checking value counts\n",
    "fam_status = df['fam_status'].value_counts(dropna = False)\n",
    "fam_status"
   ]
  },
  {
   "cell_type": "code",
   "execution_count": null,
   "id": "5a41a414-665d-4c58-b1dc-f47aec58aee2",
   "metadata": {},
   "outputs": [],
   "source": [
    "# Creating a pie chart showing the distribution of family status\n",
    "fam_status_distribution_pie = fam_status.plot.pie(autopct='%1.1f%%', labels= ['married', 'single', 'divorced/widowed', 'living with parents and siblings'], startangle=90, colors=['#ff9999','#66b3ff','#99ff99','#ffcc99'])\n",
    "plt.ylabel('')  # Hiding the y-label\n",
    "plt.title('Distribution of Family Status')\n",
    "plt.show()"
   ]
  },
  {
   "cell_type": "code",
   "execution_count": null,
   "id": "be7090f6-2c2f-470f-a206-2c3cfcdece06",
   "metadata": {},
   "outputs": [],
   "source": [
    "# Export the chart\n",
    "fam_status_distribution_pie.figure.savefig(os.path.join(path2, 'fam_status_bar.png'))"
   ]
  }
 ],
 "metadata": {
  "kernelspec": {
   "display_name": "Python [conda env:base] *",
   "language": "python",
   "name": "conda-base-py"
  },
  "language_info": {
   "codemirror_mode": {
    "name": "ipython",
    "version": 3
   },
   "file_extension": ".py",
   "mimetype": "text/x-python",
   "name": "python",
   "nbconvert_exporter": "python",
   "pygments_lexer": "ipython3",
   "version": "3.12.7"
  }
 },
 "nbformat": 4,
 "nbformat_minor": 5
}
